{
 "cells": [
  {
   "cell_type": "code",
   "execution_count": 2,
   "metadata": {
    "collapsed": true
   },
   "outputs": [],
   "source": [
    "#import libraries\n",
    "import pandas as pd\n",
    "from sqlalchemy import create_engine\n",
    "import pymysql\n"
   ]
  },
  {
   "cell_type": "code",
   "execution_count": 3,
   "metadata": {},
   "outputs": [],
   "source": [
    "#import login credentials. This file is ignored via the gitignore file\n",
    "from config import user, password"
   ]
  },
  {
   "cell_type": "code",
   "execution_count": 4,
   "metadata": {},
   "outputs": [],
   "source": [
    "#create connection to MySQL Database\n",
    "pymysql.install_as_MySQLdb()\n",
    "engine = create_engine('mysql://' + user + ':' + password + '@imdb-project.cj1m13sfkxlg.us-east-2.rds.amazonaws.com:3306/gundata')\n"
   ]
  },
  {
   "cell_type": "code",
   "execution_count": 6,
   "metadata": {},
   "outputs": [],
   "source": [
    "#Query records\n",
    "data = engine.execute(\"SELECT Year(Date), COALESCE(state, 'Total') as st, SUM(n_killed) as Gun_Deaths,latitude as lat,longitude as lon FROM gundata GROUP BY Year(Date),st WITH ROLLUP\")\n",
    "query1 = \"SELECT Year(Date), COALESCE(state, 'Total') as st, SUM(n_killed) as Gun_Deaths,latitude as lat,longitude as lon FROM gundata GROUP BY Year(Date),st WITH ROLLUP\""
   ]
  },
  {
   "cell_type": "code",
   "execution_count": 7,
   "metadata": {},
   "outputs": [
    {
     "name": "stdout",
     "output_type": "stream",
     "text": [
      "(2013, 'Alabama', Decimal('3'), 34.7982, -87.6854)\n(2013, 'Arizona', Decimal('8'), 33.5985, -99.9999)\n(2013, 'California', Decimal('46'), 33.909, -99.9999)\n(2013, 'Colorado', Decimal('4'), 39.6518, -99.9999)\n(2013, 'Connecticut', Decimal('2'), 41.7957, -72.6635)\n(2013, 'Delaware', Decimal('3'), 39.7407, -75.5499)\n(2013, 'District of Columbia', Decimal('12'), 38.8978, -76.9717)\n(2013, 'Florida', Decimal('22'), 26.6968, -80.6837)\n(2013, 'Georgia', Decimal('5'), 32.826, -83.6704)\n(2013, 'Illinois', Decimal('14'), 41.7592, -87.5628)\n(2013, 'Indiana', Decimal('9'), 39.7927, -86.0328)\n(2013, 'Kansas', Decimal('6'), 37.7044, -97.3289)\n(2013, 'Kentucky', Decimal('4'), 38.0485, -84.453)\n(2013, 'Louisiana', Decimal('8'), 29.9435, -90.0836)\n(2013, 'Maryland', Decimal('5'), 39.2899, -76.6412)\n(2013, 'Michigan', Decimal('9'), 42.9371, -85.6853)\n(2013, 'Minnesota', Decimal('3'), 44.9553, -93.2489)\n(2013, 'Mississippi', Decimal('2'), 32.2649, -90.2141)\n(2013, 'Missouri', Decimal('9'), 38.7067, -90.2494)\n(2013, 'Nebraska', Decimal('0'), 41.305, -95.9758)\n(2013, 'Nevada', Decimal('0'), 36.2003, -99.9999)\n(2013, 'New Jersey', Decimal('12'), 40.7268, -74.2116)\n(2013, 'New Mexico', Decimal('5'), 34.9791, -99.9999)\n(2013, 'New York', Decimal('15'), 43.011, -75.0058)\n(2013, 'North Carolina', Decimal('5'), 36.114, -79.9569)\n(2013, 'Ohio', Decimal('10'), 41.4455, -82.1377)\n(2013, 'Oklahoma', Decimal('14'), 36.2405, -95.9768)\n(2013, 'Pennsylvania', Decimal('13'), 40.3467, -79.8559)\n(2013, 'Rhode Island', Decimal('1'), 41.8173, -71.4516)\n(2013, 'South Carolina', Decimal('11'), 34.1868, -82.1638)\n(2013, 'Tennessee', Decimal('14'), 35.0221, -85.2697)\n(2013, 'Texas', Decimal('24'), 29.6754, -95.5499)\n(2013, 'Utah', Decimal('4'), 40.6008, -99.9999)\n(2013, 'Virginia', Decimal('3'), 37.0177, -78.1562)\n(2013, 'Washington', Decimal('8'), 47.3149, -99.9999)\n(2013, 'West Virginia', Decimal('4'), 39.2832, -80.3488)\n(2013, 'Wisconsin', Decimal('0'), 43.092, -87.94)\n(2013, None, Decimal('317'), 43.092, -87.94)\n(2014, 'Alabama', Decimal('325'), 34.7663, -86.6028)\n(2014, 'Alaska', Decimal('29'), 65.3198, -99.9999)\n(2014, 'Arizona', Decimal('220'), 33.4464, -99.9999)\n(2014, 'Arkansas', Decimal('169'), 34.7314, -92.259)\n(2014, 'California', Decimal('1320'), 37.3389, -99.9999)\n(2014, 'Colorado', Decimal('149'), 39.0496, -99.9999)\n(2014, 'Connecticut', Decimal('75'), 41.3083, -72.9279)\n(2014, 'Delaware', Decimal('50'), 39.7457, -75.5668)\n(2014, 'District of Columbia', Decimal('92'), 38.9275, -77.0089)\n(2014, 'Florida', Decimal('873'), 30.6884, -87.048)\n(2014, 'Georgia', Decimal('522'), 32.4848, -84.9727)\n(2014, 'Hawaii', Decimal('8'), 21.9986, -99.9999)\n(2014, 'Idaho', Decimal('31'), 43.5848, -99.9999)\n(2014, 'Illinois', Decimal('637'), 38.0795, -89.383)\n(2014, 'Indiana', Decimal('330'), 41.049, -85.0909)\n(2014, 'Iowa', Decimal('62'), 42.5085, -94.1894)\n(2014, 'Kansas', Decimal('94'), 37.6498, -97.3086)\n(2014, 'Kentucky', Decimal('194'), 38.053, -84.4928)\n(2014, 'Louisiana', Decimal('465'), 29.9768, -90.055)\n(2014, 'Maine', Decimal('22'), 43.6539, -70.3095)\n(2014, 'Maryland', Decimal('294'), 39.3106, -76.7022)\n(2014, 'Massachusetts', Decimal('101'), 42.4751, -70.9697)\n(2014, 'Michigan', Decimal('347'), 43.2301, -86.2514)\n(2014, 'Minnesota', Decimal('86'), 44.0737, -92.5004)\n(2014, 'Mississippi', Decimal('231'), 31.3762, -90.5601)\n(2014, 'Missouri', Decimal('383'), 37.2646, -93.3007)\n(2014, 'Montana', Decimal('32'), 45.8237, -99.9999)\n(2014, 'Nebraska', Decimal('51'), 41.1508, -99.9999)\n(2014, 'Nevada', Decimal('150'), 36.1989, -99.9999)\n(2014, 'New Hampshire', Decimal('22'), 42.9887, -71.4554)\n(2014, 'New Jersey', Decimal('278'), 40.7417, -74.1695)\n(2014, 'New Mexico', Decimal('90'), 35.6681, -99.9999)\n(2014, 'New York', Decimal('397'), 40.7034, -73.7474)\n(2014, 'North Carolina', Decimal('487'), 34.9624, -77.9622)\n(2014, 'North Dakota', Decimal('15'), 46.8713, -96.9041)\n(2014, 'Ohio', Decimal('494'), 41.6824, -83.5364)\n(2014, 'Oklahoma', Decimal('171'), 34.6347, -98.4222)\n(2014, 'Oregon', Decimal('96'), 45.5335, -99.9999)\n(2014, 'Pennsylvania', Decimal('547'), 39.9641, -75.1916)\n(2014, 'Rhode Island', Decimal('18'), 41.8253, -71.4143)\n(2014, 'South Carolina', Decimal('344'), 32.8548, -79.9977)\n(2014, 'South Dakota', Decimal('16'), 45.4548, -98.4881)\n(2014, 'Tennessee', Decimal('352'), 35.8255, -88.9093)\n(2014, 'Texas', Decimal('1094'), 33.5922, -99.9999)\n(2014, 'Utah', Decimal('62'), 37.1302, -99.9999)\n(2014, 'Vermont', Decimal('18'), 44.2313, -72.5533)\n(2014, 'Virginia', Decimal('284'), 38.7765, -77.4996)\n(2014, 'Washington', Decimal('181'), 47.5498, -99.9999)\n(2014, 'West Virginia', Decimal('70'), 37.3691, -81.0813)\n(2014, 'Wisconsin', Decimal('163'), 42.6828, -89.0187)\n(2014, 'Wyoming', Decimal('15'), 41.1641, -99.9999)\n(2014, None, Decimal('12556'), 41.1641, -99.9999)\n(2015, 'Alabama', Decimal('385'), 33.4423, -86.9322)\n(2015, 'Alaska', Decimal('70'), 61.1991, -99.9999)\n(2015, 'Arizona', Decimal('215'), 32.2163, -99.9999)\n(2015, 'Arkansas', Decimal('155'), 34.7345, -92.3328)\n(2015, 'California', Decimal('1204'), 34.0322, -99.9999)\n(2015, 'Colorado', Decimal('176'), 38.7901, -99.9999)\n(2015, 'Connecticut', Decimal('90'), 41.1884, -73.16)\n(2015, 'Delaware', Decimal('58'), 39.7385, -75.5564)\n(2015, 'District of Columbia', Decimal('124'), 38.9323, -76.9745)\n(2015, 'Florida', Decimal('796'), 28.5212, -81.4366)\n(2015, 'Georgia', Decimal('595'), 33.3856, -84.5648)\n(2015, 'Hawaii', Decimal('12'), 21.3316, -99.9999)\n(2015, 'Idaho', Decimal('40'), 43.4896, -99.9999)\n(2015, 'Illinois', Decimal('688'), 41.9202, -87.7857)\n(2015, 'Indiana', Decimal('346'), 40.4247, -86.8832)\n(2015, 'Iowa', Decimal('60'), 42.4809, -92.324)\n(2015, 'Kansas', Decimal('127'), 37.2414, -97.0001)\n(2015, 'Kentucky', Decimal('230'), 38.2726, -85.6412)\n(2015, 'Louisiana', Decimal('501'), 29.8312, -90.9609)\n(2015, 'Maine', Decimal('31'), 43.9884, -69.6928)\n(2015, 'Maryland', Decimal('404'), 39.294, -76.62)\n(2015, 'Massachusetts', Decimal('109'), 42.3762, -73.36)\n(2015, 'Michigan', Decimal('355'), 43.0695, -83.694)\n(2015, 'Minnesota', Decimal('123'), 44.9656, -93.1036)\n(2015, 'Mississippi', Decimal('223'), 31.3271, -89.2903)\n(2015, 'Missouri', Decimal('492'), 38.6684, -90.2166)\n(2015, 'Montana', Decimal('34'), 46.0049, -99.9999)\n(2015, 'Nebraska', Decimal('59'), 41.2622, -95.9313)\n(2015, 'Nevada', Decimal('183'), 36.1786, -99.9999)\n(2015, 'New Hampshire', Decimal('22'), 42.9235, -71.4164)\n(2015, 'New Jersey', Decimal('249'), 40.6238, -74.4168)\n(2015, 'New Mexico', Decimal('116'), 35.1311, -99.9999)\n(2015, 'New York', Decimal('463'), 42.0842, -79.2359)\n(2015, 'North Carolina', Decimal('493'), 34.0579, -78.4597)\n(2015, 'North Dakota', Decimal('18'), 46.9251, -98.0056)\n(2015, 'Ohio', Decimal('537'), 41.518, -81.5366)\n(2015, 'Oklahoma', Decimal('220'), 36.0934, -95.887)\n(2015, 'Oregon', Decimal('125'), 42.3201, -99.9999)\n(2015, 'Pennsylvania', Decimal('508'), 39.8449, -75.3816)\n(2015, 'Rhode Island', Decimal('14'), 41.7817, -71.4651)\n(2015, 'South Carolina', Decimal('384'), 32.1962, -80.735)\n(2015, 'South Dakota', Decimal('25'), 43.5125, -96.7119)\n(2015, 'Tennessee', Decimal('395'), 35.0064, -85.3179)\n(2015, 'Texas', Decimal('1136'), 29.1353, -98.5778)\n(2015, 'Utah', Decimal('66'), 40.1071, -99.9999)\n(2015, 'Vermont', Decimal('13'), 44.4821, -73.2075)\n(2015, 'Virginia', Decimal('317'), 37.805, -79.9887)\n(2015, 'Washington', Decimal('197'), 48.5357, -99.9999)\n(2015, 'West Virginia', Decimal('58'), 37.2675, -81.2237)\n(2015, 'Wisconsin', Decimal('222'), 43.0675, -87.9053)\n(2015, 'Wyoming', Decimal('21'), 42.8887, -99.9999)\n(2015, None, Decimal('13484'), 42.8887, -99.9999)\n(2016, 'Alabama', Decimal('488'), 30.692, -88.0418)\n(2016, 'Alaska', Decimal('88'), 61.189, -99.9999)\n(2016, 'Arizona', Decimal('277'), 33.4715, -99.9999)\n(2016, 'Arkansas', Decimal('190'), 34.4985, -92.4198)\n(2016, 'California', Decimal('1265'), 33.8127, -99.9999)\n(2016, 'Colorado', Decimal('207'), 39.0748, -99.9999)\n(2016, 'Connecticut', Decimal('68'), 41.5402, -72.7895)\n(2016, 'Delaware', Decimal('42'), 39.7576, -75.5016)\n(2016, 'District of Columbia', Decimal('106'), 38.9552, -77.0225)\n(2016, 'Florida', Decimal('1001'), 28.0601, -81.9941)\n(2016, 'Georgia', Decimal('548'), 32.0406, -81.1111)\n(2016, 'Hawaii', Decimal('34'), 19.7297, -99.9999)\n(2016, 'Idaho', Decimal('34'), 43.4923, -99.9999)\n(2016, 'Illinois', Decimal('946'), 41.7496, -87.5714)\n(2016, 'Indiana', Decimal('420'), 39.7529, -86.1236)\n(2016, 'Iowa', Decimal('70'), 42.4992, -92.331)\n(2016, 'Kansas', Decimal('125'), 38.8017, -97.6175)\n(2016, 'Kentucky', Decimal('288'), 38.0682, -84.5057)\n(2016, 'Louisiana', Decimal('527'), 30.011, -90.2551)\n(2016, 'Maine', Decimal('18'), 43.682, -70.3327)\n(2016, 'Maryland', Decimal('429'), 39.2946, -76.6745)\n(2016, 'Massachusetts', Decimal('112'), 42.2802, -71.0759)\n(2016, 'Michigan', Decimal('385'), 42.6723, -84.603)\n(2016, 'Minnesota', Decimal('108'), 44.9849, -93.2427)\n(2016, 'Mississippi', Decimal('290'), 31.5944, -91.361)\n(2016, 'Missouri', Decimal('515'), 39.0979, -94.5221)\n(2016, 'Montana', Decimal('42'), 0.0, 0.0)\n(2016, 'Nebraska', Decimal('57'), 40.84, -96.7199)\n(2016, 'Nevada', Decimal('205'), 36.2766, -99.9999)\n(2016, 'New Hampshire', Decimal('20'), 43.5475, -71.4072)\n(2016, 'New Jersey', Decimal('297'), 40.926, -74.1703)\n(2016, 'New Mexico', Decimal('122'), 36.7439, -99.9999)\n(2016, 'New York', Decimal('416'), 41.8418, -73.967)\n(2016, 'North Carolina', Decimal('576'), 35.3465, -80.8415)\n(2016, 'North Dakota', Decimal('18'), 48.2286, -99.9999)\n(2016, 'Ohio', Decimal('628'), 39.3714, -84.3633)\n(2016, 'Oklahoma', Decimal('243'), 36.2258, -95.9977)\n(2016, 'Oregon', Decimal('95'), 42.3173, -99.9999)\n(2016, 'Pennsylvania', Decimal('556'), 40.0313, -76.3326)\n(2016, 'Rhode Island', Decimal('14'), 41.8655, -71.3733)\n(2016, 'South Carolina', Decimal('387'), 33.6763, -79.8323)\n(2016, 'South Dakota', Decimal('23'), 0.0, 0.0)\n(2016, 'Tennessee', Decimal('470'), 35.9142, -84.1868)\n(2016, 'Texas', Decimal('1313'), 30.9081, -95.3583)\n(2016, 'Utah', Decimal('70'), 40.2891, -99.9999)\n(2016, 'Vermont', Decimal('13'), 44.1621, -73.2501)\n(2016, 'Virginia', Decimal('398'), 36.8681, -76.3993)\n(2016, 'Washington', Decimal('183'), 47.6483, -99.9999)\n(2016, 'West Virginia', Decimal('99'), 39.2715, -80.8094)\n(2016, 'Wisconsin', Decimal('222'), 42.9655, -87.8576)\n(2016, 'Wyoming', Decimal('18'), 44.2739, -99.9999)\n(2016, None, Decimal('15066'), 44.2739, -99.9999)\n(2017, 'Alabama', Decimal('544'), 34.8028, -86.8823)\n(2017, 'Alaska', Decimal('69'), 64.8425, -99.9999)\n(2017, 'Arizona', Decimal('289'), 32.2038, -99.9999)\n(2017, 'Arkansas', Decimal('216'), 34.69, -92.3332)\n(2017, 'California', Decimal('1423'), 36.951, -99.9999)\n(2017, 'Colorado', Decimal('199'), 39.7297, -99.9999)\n(2017, 'Connecticut', Decimal('89'), 41.7579, -72.687)\n(2017, 'Delaware', Decimal('56'), 38.9295, -75.5817)\n(2017, 'District of Columbia', Decimal('100'), 38.8626, -76.9818)\n(2017, 'Florida', Decimal('950'), 25.8688, -80.2221)\n(2017, 'Georgia', Decimal('658'), 33.8665, -84.1859)\n(2017, 'Hawaii', Decimal('8'), 19.7117, -99.9999)\n(2017, 'Idaho', Decimal('47'), 42.9931, -99.9999)\n(2017, 'Illinois', Decimal('959'), 40.6739, -89.633)\n(2017, 'Indiana', Decimal('407'), 39.7978, -86.1093)\n(2017, 'Iowa', Decimal('71'), 41.5728, -93.621)\n(2017, 'Kansas', Decimal('152'), 39.1148, -94.7702)\n(2017, 'Kentucky', Decimal('273'), 36.6114, -83.7223)\n(2017, 'Louisiana', Decimal('549'), 31.2487, -93.3345)\n(2017, 'Maine', Decimal('33'), 43.3965, -70.9127)\n(2017, 'Maryland', Decimal('480'), 39.2814, -76.6937)\n(2017, 'Massachusetts', Decimal('128'), 42.0999, -72.5896)\n(2017, 'Michigan', Decimal('369'), 42.3505, -83.2211)\n(2017, 'Minnesota', Decimal('115'), 45.0716, -93.2634)\n(2017, 'Mississippi', Decimal('324'), 34.8264, -90.3351)\n(2017, 'Missouri', Decimal('609'), 38.5706, -92.161)\n(2017, 'Montana', Decimal('41'), 46.7456, -99.9999)\n(2017, 'Nebraska', Decimal('47'), 41.296, -95.947)\n(2017, 'Nevada', Decimal('200'), 36.1222, -99.9999)\n(2017, 'New Hampshire', Decimal('23'), 42.9793, -71.4274)\n(2017, 'New Jersey', Decimal('275'), 40.2097, -74.7595)\n(2017, 'New Mexico', Decimal('125'), 34.1898, -99.9999)\n(2017, 'New York', Decimal('347'), 40.8541, -73.8993)\n(2017, 'North Carolina', Decimal('556'), 35.7426, -79.8081)\n(2017, 'North Dakota', Decimal('15'), 47.6479, -99.9999)\n(2017, 'Ohio', Decimal('700'), 41.4644, -81.5846)\n(2017, 'Oklahoma', Decimal('249'), 35.462, -97.4768)\n(2017, 'Oregon', Decimal('99'), 42.2258, -99.9999)\n(2017, 'Pennsylvania', Decimal('635'), 42.1306, -80.0272)\n(2017, 'Rhode Island', Decimal('11'), 41.7292, -71.2651)\n(2017, 'South Carolina', Decimal('395'), 33.504, -79.3373)\n(2017, 'South Dakota', Decimal('19'), 44.0915, -99.9999)\n(2017, 'Tennessee', Decimal('495'), 35.067, -89.9156)\n(2017, 'Texas', Decimal('1169'), 30.3642, -97.5354)\n(2017, 'Utah', Decimal('70'), 40.1967, -99.9999)\n(2017, 'Vermont', Decimal('9'), 44.6759, -73.065)\n(2017, 'Virginia', Decimal('385'), 37.5488, -77.3984)\n(2017, 'Washington', Decimal('230'), 47.0743, -99.9999)\n(2017, 'West Virginia', Decimal('81'), 39.2776, -80.3407)\n(2017, 'Wisconsin', Decimal('209'), 44.2763, -88.397)\n(2017, 'Wyoming', Decimal('9'), 42.8572, -99.9999)\n(2017, None, Decimal('15511'), 42.8572, -99.9999)\n(2018, 'Alabama', Decimal('135'), 33.4743, -87.0391)\n(2018, 'Alaska', Decimal('11'), 61.2169, -99.9999)\n(2018, 'Arizona', Decimal('85'), 33.4957, -99.9999)\n(2018, 'Arkansas', Decimal('43'), 34.7204, -92.4523)\n(2018, 'California', Decimal('304'), 37.7698, -99.9999)\n(2018, 'Colorado', Decimal('61'), 38.2689, -99.9999)\n(2018, 'Connecticut', Decimal('17'), 41.7586, -72.6781)\n(2018, 'Delaware', Decimal('8'), 39.1258, -75.5351)\n(2018, 'District of Columbia', Decimal('25'), 38.9208, -76.9823)\n(2018, 'Florida', Decimal('267'), 29.1967, -82.0976)\n(2018, 'Georgia', Decimal('128'), 34.9406, -85.3135)\n(2018, 'Hawaii', Decimal('1'), 21.3875, -99.9999)\n(2018, 'Idaho', Decimal('14'), 43.5964, -99.9999)\n(2018, 'Illinois', Decimal('165'), 42.2822, -89.1148)\n(2018, 'Indiana', Decimal('96'), 0.0, 0.0)\n(2018, 'Iowa', Decimal('10'), 41.2401, -95.8847)\n(2018, 'Kansas', Decimal('38'), 39.0876, -95.6868)\n(2018, 'Kentucky', Decimal('77'), 38.3893, -84.5381)\n(2018, 'Louisiana', Decimal('129'), 32.4246, -93.8594)\n(2018, 'Maine', Decimal('8'), 44.6381, -69.5086)\n(2018, 'Maryland', Decimal('79'), 39.1375, -76.7231)\n(2018, 'Massachusetts', Decimal('22'), 42.3379, -71.0547)\n(2018, 'Michigan', Decimal('122'), 42.3034, -85.5888)\n(2018, 'Minnesota', Decimal('26'), 44.964, -93.0371)\n(2018, 'Mississippi', Decimal('106'), 30.3835, -88.6504)\n(2018, 'Missouri', Decimal('128'), 38.6549, -92.1157)\n(2018, 'Montana', Decimal('5'), 45.6575, -99.9999)\n(2018, 'Nebraska', Decimal('11'), 40.808, -96.6752)\n(2018, 'Nevada', Decimal('61'), 36.102, -99.9999)\n(2018, 'New Hampshire', Decimal('1'), 43.079, -70.7719)\n(2018, 'New Jersey', Decimal('57'), 40.2082, -74.7455)\n(2018, 'New Mexico', Decimal('37'), 35.093, -99.9999)\n(2018, 'New York', Decimal('67'), 42.9093, -78.8491)\n(2018, 'North Carolina', Decimal('108'), 35.2094, -80.8955)\n(2018, 'North Dakota', Decimal('3'), 46.8407, -96.8039)\n(2018, 'Ohio', Decimal('139'), 41.4494, -82.176)\n(2018, 'Oklahoma', Decimal('44'), 36.2242, -95.9935)\n(2018, 'Oregon', Decimal('31'), 44.303, -99.9999)\n(2018, 'Pennsylvania', Decimal('136'), 40.4266, -77.056)\n(2018, 'Rhode Island', Decimal('5'), 41.8265, -71.4546)\n(2018, 'South Carolina', Decimal('89'), 35.0963, -82.0436)\n(2018, 'South Dakota', Decimal('7'), 43.5045, -96.7)\n(2018, 'Tennessee', Decimal('98'), 36.5607, -87.4)\n(2018, 'Texas', Decimal('310'), 29.7676, -95.3359)\n(2018, 'Utah', Decimal('10'), 40.6531, -99.9999)\n(2018, 'Vermont', Decimal('4'), 44.8065, -73.0816)\n(2018, 'Virginia', Decimal('72'), 37.5012, -77.4737)\n(2018, 'Washington', Decimal('54'), 46.2159, -99.9999)\n(2018, 'West Virginia', Decimal('23'), 38.3233, -81.707)\n(2018, 'Wisconsin', Decimal('46'), 43.0944, -89.3642)\n(2018, 'Wyoming', Decimal('10'), 44.8126, -99.9999)\n(2018, None, Decimal('3533'), 44.8126, -99.9999)\n(None, None, Decimal('60467'), 44.8126, -99.9999)\n"
     ]
    }
   ],
   "source": [
    "#Initial Test\n",
    "for record in data:\n",
    "    print(record)\n"
   ]
  },
  {
   "cell_type": "code",
   "execution_count": 8,
   "metadata": {
    "collapsed": true
   },
   "outputs": [],
   "source": [
    "#run query1 then insert into dataframe\n",
    "df1 = pd.read_sql_query(query1,engine)\n"
   ]
  },
  {
   "cell_type": "code",
   "execution_count": 9,
   "metadata": {},
   "outputs": [],
   "source": [
    "#take first dataframe then convert to json\n",
    "df1.to_json(path_or_buf='overall_gun_deaths_by_year.json',orient='records')"
   ]
  },
  {
   "cell_type": "code",
   "execution_count": 10,
   "metadata": {
    "collapsed": true
   },
   "outputs": [],
   "source": [
    "#take second dataframe then convert to json\n",
    "#this query will look at gunviolence data from top 5 states of number of gun related homicides\n",
    "query2 = \"\"\"\n",
    "SELECT year(gundata.date),gundata.state,city_or_county,latitude,longitude,sum(n_killed) FROM gundata\n",
    "LEFT JOIN\t\t(SELECT DISTINCT state\n",
    "\t\t\t\tFROM gundata\n",
    "\t\t\t\tGROUP BY state\n",
    "\t\t\t\tORDER BY SUM(n_killed) DESC\n",
    "                LIMIT 5) as sub\n",
    "ON gundata.state = sub.state\n",
    "WHERE sub.state IS NOT NULL\n",
    "GROUP BY city_or_county, year(gundata.date)\n",
    "ORDER BY sum(n_killed) DESC;\n",
    "\"\"\"\n",
    "\n",
    "\n",
    "df2 = pd.read_sql_query(query2,engine)\n",
    "df2.to_json(path_or_buf='gun_deaths in top 5 states.json',orient='records')\n"
   ]
  },
  {
   "cell_type": "code",
   "execution_count": 11,
   "metadata": {
    "collapsed": false
   },
   "outputs": [],
   "source": [
    "#Used Stored Procedure\n",
    "df3 = pd.read_sql_query(\"call Cause_Of_Gun_Deaths()\", engine)\n",
    "df3.to_json(path_or_buf='Cause_of_Gun_Deaths_by_City_State_Year.json',orient='records')\n"
   ]
  },
  {
   "cell_type": "code",
   "execution_count": 20,
   "metadata": {},
   "outputs": [
    {
     "ename": "ValueError",
     "evalue": "unsupported format character 'm' (0x6d) at index 41",
     "traceback": [
      "\u001b[1;31m---------------------------------------------------------------------------\u001b[0m",
      "\u001b[1;31mValueError\u001b[0m                                Traceback (most recent call last)",
      "\u001b[1;32m<ipython-input-20-2c308234402e>\u001b[0m in \u001b[0;36m<module>\u001b[1;34m()\u001b[0m\n\u001b[1;32m----> 1\u001b[1;33m \u001b[0mengine\u001b[0m\u001b[1;33m.\u001b[0m\u001b[0mexecute\u001b[0m\u001b[1;33m(\u001b[0m\u001b[0mquery3\u001b[0m\u001b[1;33m)\u001b[0m\u001b[1;33m\u001b[0m\u001b[0m\n\u001b[0m",
      "\u001b[1;32m~\\Anaconda3\\envs\\pydata\\lib\\site-packages\\sqlalchemy\\engine\\base.py\u001b[0m in \u001b[0;36mexecute\u001b[1;34m(self, statement, *multiparams, **params)\u001b[0m\n\u001b[0;32m   2073\u001b[0m \u001b[1;33m\u001b[0m\u001b[0m\n\u001b[0;32m   2074\u001b[0m         \u001b[0mconnection\u001b[0m \u001b[1;33m=\u001b[0m \u001b[0mself\u001b[0m\u001b[1;33m.\u001b[0m\u001b[0mcontextual_connect\u001b[0m\u001b[1;33m(\u001b[0m\u001b[0mclose_with_result\u001b[0m\u001b[1;33m=\u001b[0m\u001b[1;32mTrue\u001b[0m\u001b[1;33m)\u001b[0m\u001b[1;33m\u001b[0m\u001b[0m\n\u001b[1;32m-> 2075\u001b[1;33m         \u001b[1;32mreturn\u001b[0m \u001b[0mconnection\u001b[0m\u001b[1;33m.\u001b[0m\u001b[0mexecute\u001b[0m\u001b[1;33m(\u001b[0m\u001b[0mstatement\u001b[0m\u001b[1;33m,\u001b[0m \u001b[1;33m*\u001b[0m\u001b[0mmultiparams\u001b[0m\u001b[1;33m,\u001b[0m \u001b[1;33m**\u001b[0m\u001b[0mparams\u001b[0m\u001b[1;33m)\u001b[0m\u001b[1;33m\u001b[0m\u001b[0m\n\u001b[0m\u001b[0;32m   2076\u001b[0m \u001b[1;33m\u001b[0m\u001b[0m\n\u001b[0;32m   2077\u001b[0m     \u001b[1;32mdef\u001b[0m \u001b[0mscalar\u001b[0m\u001b[1;33m(\u001b[0m\u001b[0mself\u001b[0m\u001b[1;33m,\u001b[0m \u001b[0mstatement\u001b[0m\u001b[1;33m,\u001b[0m \u001b[1;33m*\u001b[0m\u001b[0mmultiparams\u001b[0m\u001b[1;33m,\u001b[0m \u001b[1;33m**\u001b[0m\u001b[0mparams\u001b[0m\u001b[1;33m)\u001b[0m\u001b[1;33m:\u001b[0m\u001b[1;33m\u001b[0m\u001b[0m\n",
      "\u001b[1;32m~\\Anaconda3\\envs\\pydata\\lib\\site-packages\\sqlalchemy\\engine\\base.py\u001b[0m in \u001b[0;36mexecute\u001b[1;34m(self, object, *multiparams, **params)\u001b[0m\n\u001b[0;32m    940\u001b[0m         \"\"\"\n\u001b[0;32m    941\u001b[0m         \u001b[1;32mif\u001b[0m \u001b[0misinstance\u001b[0m\u001b[1;33m(\u001b[0m\u001b[0mobject\u001b[0m\u001b[1;33m,\u001b[0m \u001b[0mutil\u001b[0m\u001b[1;33m.\u001b[0m\u001b[0mstring_types\u001b[0m\u001b[1;33m[\u001b[0m\u001b[1;36m0\u001b[0m\u001b[1;33m]\u001b[0m\u001b[1;33m)\u001b[0m\u001b[1;33m:\u001b[0m\u001b[1;33m\u001b[0m\u001b[0m\n\u001b[1;32m--> 942\u001b[1;33m             \u001b[1;32mreturn\u001b[0m \u001b[0mself\u001b[0m\u001b[1;33m.\u001b[0m\u001b[0m_execute_text\u001b[0m\u001b[1;33m(\u001b[0m\u001b[0mobject\u001b[0m\u001b[1;33m,\u001b[0m \u001b[0mmultiparams\u001b[0m\u001b[1;33m,\u001b[0m \u001b[0mparams\u001b[0m\u001b[1;33m)\u001b[0m\u001b[1;33m\u001b[0m\u001b[0m\n\u001b[0m\u001b[0;32m    943\u001b[0m         \u001b[1;32mtry\u001b[0m\u001b[1;33m:\u001b[0m\u001b[1;33m\u001b[0m\u001b[0m\n\u001b[0;32m    944\u001b[0m             \u001b[0mmeth\u001b[0m \u001b[1;33m=\u001b[0m \u001b[0mobject\u001b[0m\u001b[1;33m.\u001b[0m\u001b[0m_execute_on_connection\u001b[0m\u001b[1;33m\u001b[0m\u001b[0m\n",
      "\u001b[1;32m~\\Anaconda3\\envs\\pydata\\lib\\site-packages\\sqlalchemy\\engine\\base.py\u001b[0m in \u001b[0;36m_execute_text\u001b[1;34m(self, statement, multiparams, params)\u001b[0m\n\u001b[0;32m   1102\u001b[0m             \u001b[0mstatement\u001b[0m\u001b[1;33m,\u001b[0m\u001b[1;33m\u001b[0m\u001b[0m\n\u001b[0;32m   1103\u001b[0m             \u001b[0mparameters\u001b[0m\u001b[1;33m,\u001b[0m\u001b[1;33m\u001b[0m\u001b[0m\n\u001b[1;32m-> 1104\u001b[1;33m             \u001b[0mstatement\u001b[0m\u001b[1;33m,\u001b[0m \u001b[0mparameters\u001b[0m\u001b[1;33m\u001b[0m\u001b[0m\n\u001b[0m\u001b[0;32m   1105\u001b[0m         )\n\u001b[0;32m   1106\u001b[0m         \u001b[1;32mif\u001b[0m \u001b[0mself\u001b[0m\u001b[1;33m.\u001b[0m\u001b[0m_has_events\u001b[0m \u001b[1;32mor\u001b[0m \u001b[0mself\u001b[0m\u001b[1;33m.\u001b[0m\u001b[0mengine\u001b[0m\u001b[1;33m.\u001b[0m\u001b[0m_has_events\u001b[0m\u001b[1;33m:\u001b[0m\u001b[1;33m\u001b[0m\u001b[0m\n",
      "\u001b[1;32m~\\Anaconda3\\envs\\pydata\\lib\\site-packages\\sqlalchemy\\engine\\base.py\u001b[0m in \u001b[0;36m_execute_context\u001b[1;34m(self, dialect, constructor, statement, parameters, *args)\u001b[0m\n\u001b[0;32m   1198\u001b[0m                 \u001b[0mparameters\u001b[0m\u001b[1;33m,\u001b[0m\u001b[1;33m\u001b[0m\u001b[0m\n\u001b[0;32m   1199\u001b[0m                 \u001b[0mcursor\u001b[0m\u001b[1;33m,\u001b[0m\u001b[1;33m\u001b[0m\u001b[0m\n\u001b[1;32m-> 1200\u001b[1;33m                 context)\n\u001b[0m\u001b[0;32m   1201\u001b[0m \u001b[1;33m\u001b[0m\u001b[0m\n\u001b[0;32m   1202\u001b[0m         \u001b[1;32mif\u001b[0m \u001b[0mself\u001b[0m\u001b[1;33m.\u001b[0m\u001b[0m_has_events\u001b[0m \u001b[1;32mor\u001b[0m \u001b[0mself\u001b[0m\u001b[1;33m.\u001b[0m\u001b[0mengine\u001b[0m\u001b[1;33m.\u001b[0m\u001b[0m_has_events\u001b[0m\u001b[1;33m:\u001b[0m\u001b[1;33m\u001b[0m\u001b[0m\n",
      "\u001b[1;32m~\\Anaconda3\\envs\\pydata\\lib\\site-packages\\sqlalchemy\\engine\\base.py\u001b[0m in \u001b[0;36m_handle_dbapi_exception\u001b[1;34m(self, e, statement, parameters, cursor, context)\u001b[0m\n\u001b[0;32m   1414\u001b[0m                 )\n\u001b[0;32m   1415\u001b[0m             \u001b[1;32melse\u001b[0m\u001b[1;33m:\u001b[0m\u001b[1;33m\u001b[0m\u001b[0m\n\u001b[1;32m-> 1416\u001b[1;33m                 \u001b[0mutil\u001b[0m\u001b[1;33m.\u001b[0m\u001b[0mreraise\u001b[0m\u001b[1;33m(\u001b[0m\u001b[1;33m*\u001b[0m\u001b[0mexc_info\u001b[0m\u001b[1;33m)\u001b[0m\u001b[1;33m\u001b[0m\u001b[0m\n\u001b[0m\u001b[0;32m   1417\u001b[0m \u001b[1;33m\u001b[0m\u001b[0m\n\u001b[0;32m   1418\u001b[0m         \u001b[1;32mfinally\u001b[0m\u001b[1;33m:\u001b[0m\u001b[1;33m\u001b[0m\u001b[0m\n",
      "\u001b[1;32m~\\Anaconda3\\envs\\pydata\\lib\\site-packages\\sqlalchemy\\util\\compat.py\u001b[0m in \u001b[0;36mreraise\u001b[1;34m(tp, value, tb, cause)\u001b[0m\n\u001b[0;32m    185\u001b[0m         \u001b[1;32mif\u001b[0m \u001b[0mvalue\u001b[0m\u001b[1;33m.\u001b[0m\u001b[0m__traceback__\u001b[0m \u001b[1;32mis\u001b[0m \u001b[1;32mnot\u001b[0m \u001b[0mtb\u001b[0m\u001b[1;33m:\u001b[0m\u001b[1;33m\u001b[0m\u001b[0m\n\u001b[0;32m    186\u001b[0m             \u001b[1;32mraise\u001b[0m \u001b[0mvalue\u001b[0m\u001b[1;33m.\u001b[0m\u001b[0mwith_traceback\u001b[0m\u001b[1;33m(\u001b[0m\u001b[0mtb\u001b[0m\u001b[1;33m)\u001b[0m\u001b[1;33m\u001b[0m\u001b[0m\n\u001b[1;32m--> 187\u001b[1;33m         \u001b[1;32mraise\u001b[0m \u001b[0mvalue\u001b[0m\u001b[1;33m\u001b[0m\u001b[0m\n\u001b[0m\u001b[0;32m    188\u001b[0m \u001b[1;33m\u001b[0m\u001b[0m\n\u001b[0;32m    189\u001b[0m \u001b[1;32melse\u001b[0m\u001b[1;33m:\u001b[0m\u001b[1;33m\u001b[0m\u001b[0m\n",
      "\u001b[1;32m~\\Anaconda3\\envs\\pydata\\lib\\site-packages\\sqlalchemy\\engine\\base.py\u001b[0m in \u001b[0;36m_execute_context\u001b[1;34m(self, dialect, constructor, statement, parameters, *args)\u001b[0m\n\u001b[0;32m   1191\u001b[0m                         \u001b[0mstatement\u001b[0m\u001b[1;33m,\u001b[0m\u001b[1;33m\u001b[0m\u001b[0m\n\u001b[0;32m   1192\u001b[0m                         \u001b[0mparameters\u001b[0m\u001b[1;33m,\u001b[0m\u001b[1;33m\u001b[0m\u001b[0m\n\u001b[1;32m-> 1193\u001b[1;33m                         context)\n\u001b[0m\u001b[0;32m   1194\u001b[0m         \u001b[1;32mexcept\u001b[0m \u001b[0mBaseException\u001b[0m \u001b[1;32mas\u001b[0m \u001b[0me\u001b[0m\u001b[1;33m:\u001b[0m\u001b[1;33m\u001b[0m\u001b[0m\n\u001b[0;32m   1195\u001b[0m             self._handle_dbapi_exception(\n",
      "\u001b[1;32m~\\Anaconda3\\envs\\pydata\\lib\\site-packages\\sqlalchemy\\engine\\default.py\u001b[0m in \u001b[0;36mdo_execute\u001b[1;34m(self, cursor, statement, parameters, context)\u001b[0m\n\u001b[0;32m    505\u001b[0m \u001b[1;33m\u001b[0m\u001b[0m\n\u001b[0;32m    506\u001b[0m     \u001b[1;32mdef\u001b[0m \u001b[0mdo_execute\u001b[0m\u001b[1;33m(\u001b[0m\u001b[0mself\u001b[0m\u001b[1;33m,\u001b[0m \u001b[0mcursor\u001b[0m\u001b[1;33m,\u001b[0m \u001b[0mstatement\u001b[0m\u001b[1;33m,\u001b[0m \u001b[0mparameters\u001b[0m\u001b[1;33m,\u001b[0m \u001b[0mcontext\u001b[0m\u001b[1;33m=\u001b[0m\u001b[1;32mNone\u001b[0m\u001b[1;33m)\u001b[0m\u001b[1;33m:\u001b[0m\u001b[1;33m\u001b[0m\u001b[0m\n\u001b[1;32m--> 507\u001b[1;33m         \u001b[0mcursor\u001b[0m\u001b[1;33m.\u001b[0m\u001b[0mexecute\u001b[0m\u001b[1;33m(\u001b[0m\u001b[0mstatement\u001b[0m\u001b[1;33m,\u001b[0m \u001b[0mparameters\u001b[0m\u001b[1;33m)\u001b[0m\u001b[1;33m\u001b[0m\u001b[0m\n\u001b[0m\u001b[0;32m    508\u001b[0m \u001b[1;33m\u001b[0m\u001b[0m\n\u001b[0;32m    509\u001b[0m     \u001b[1;32mdef\u001b[0m \u001b[0mdo_execute_no_params\u001b[0m\u001b[1;33m(\u001b[0m\u001b[0mself\u001b[0m\u001b[1;33m,\u001b[0m \u001b[0mcursor\u001b[0m\u001b[1;33m,\u001b[0m \u001b[0mstatement\u001b[0m\u001b[1;33m,\u001b[0m \u001b[0mcontext\u001b[0m\u001b[1;33m=\u001b[0m\u001b[1;32mNone\u001b[0m\u001b[1;33m)\u001b[0m\u001b[1;33m:\u001b[0m\u001b[1;33m\u001b[0m\u001b[0m\n",
      "\u001b[1;32m~\\Anaconda3\\envs\\pydata\\lib\\site-packages\\pymysql\\cursors.py\u001b[0m in \u001b[0;36mexecute\u001b[1;34m(self, query, args)\u001b[0m\n\u001b[0;32m    161\u001b[0m             \u001b[1;32mpass\u001b[0m\u001b[1;33m\u001b[0m\u001b[0m\n\u001b[0;32m    162\u001b[0m \u001b[1;33m\u001b[0m\u001b[0m\n\u001b[1;32m--> 163\u001b[1;33m         \u001b[0mquery\u001b[0m \u001b[1;33m=\u001b[0m \u001b[0mself\u001b[0m\u001b[1;33m.\u001b[0m\u001b[0mmogrify\u001b[0m\u001b[1;33m(\u001b[0m\u001b[0mquery\u001b[0m\u001b[1;33m,\u001b[0m \u001b[0margs\u001b[0m\u001b[1;33m)\u001b[0m\u001b[1;33m\u001b[0m\u001b[0m\n\u001b[0m\u001b[0;32m    164\u001b[0m \u001b[1;33m\u001b[0m\u001b[0m\n\u001b[0;32m    165\u001b[0m         \u001b[0mresult\u001b[0m \u001b[1;33m=\u001b[0m \u001b[0mself\u001b[0m\u001b[1;33m.\u001b[0m\u001b[0m_query\u001b[0m\u001b[1;33m(\u001b[0m\u001b[0mquery\u001b[0m\u001b[1;33m)\u001b[0m\u001b[1;33m\u001b[0m\u001b[0m\n",
      "\u001b[1;32m~\\Anaconda3\\envs\\pydata\\lib\\site-packages\\pymysql\\cursors.py\u001b[0m in \u001b[0;36mmogrify\u001b[1;34m(self, query, args)\u001b[0m\n\u001b[0;32m    140\u001b[0m \u001b[1;33m\u001b[0m\u001b[0m\n\u001b[0;32m    141\u001b[0m         \u001b[1;32mif\u001b[0m \u001b[0margs\u001b[0m \u001b[1;32mis\u001b[0m \u001b[1;32mnot\u001b[0m \u001b[1;32mNone\u001b[0m\u001b[1;33m:\u001b[0m\u001b[1;33m\u001b[0m\u001b[0m\n\u001b[1;32m--> 142\u001b[1;33m             \u001b[0mquery\u001b[0m \u001b[1;33m=\u001b[0m \u001b[0mquery\u001b[0m \u001b[1;33m%\u001b[0m \u001b[0mself\u001b[0m\u001b[1;33m.\u001b[0m\u001b[0m_escape_args\u001b[0m\u001b[1;33m(\u001b[0m\u001b[0margs\u001b[0m\u001b[1;33m,\u001b[0m \u001b[0mconn\u001b[0m\u001b[1;33m)\u001b[0m\u001b[1;33m\u001b[0m\u001b[0m\n\u001b[0m\u001b[0;32m    143\u001b[0m \u001b[1;33m\u001b[0m\u001b[0m\n\u001b[0;32m    144\u001b[0m         \u001b[1;32mreturn\u001b[0m \u001b[0mquery\u001b[0m\u001b[1;33m\u001b[0m\u001b[0m\n",
      "\u001b[1;31mValueError\u001b[0m: unsupported format character 'm' (0x6d) at index 41"
     ],
     "output_type": "error"
    }
   ],
   "source": [
    ""
   ]
  },
  {
   "cell_type": "code",
   "execution_count": null,
   "metadata": {},
   "outputs": [],
   "source": []
  }
 ],
 "metadata": {
  "kernelspec": {
   "display_name": "Python 3",
   "language": "python",
   "name": "python3"
  },
  "language_info": {
   "codemirror_mode": {
    "name": "ipython",
    "version": 3
   },
   "file_extension": ".py",
   "mimetype": "text/x-python",
   "name": "python",
   "nbconvert_exporter": "python",
   "pygments_lexer": "ipython3",
   "version": "3.6.3"
  }
 },
 "nbformat": 4,
 "nbformat_minor": 2
}
